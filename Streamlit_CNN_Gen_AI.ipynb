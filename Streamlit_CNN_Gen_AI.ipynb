{
  "cells": [
    {
      "cell_type": "markdown",
      "metadata": {
        "id": "view-in-github",
        "colab_type": "text"
      },
      "source": [
        "<a href=\"https://colab.research.google.com/github/Emcsquares/cnn-pm/blob/main/Streamlit_CNN_Gen_AI.ipynb\" target=\"_parent\"><img src=\"https://colab.research.google.com/assets/colab-badge.svg\" alt=\"Open In Colab\"/></a>"
      ]
    },
    {
      "cell_type": "markdown",
      "source": [
        "# Notes\n",
        "\n",
        "Pada bagian ini kita akan mencoba membuat aplikasi sederhana klasifikasi gambar dengan CNN dan Streamlit. Selain itu kita akan mengkombinasikan dengan Gemini.\n",
        "\n",
        "Gunakanlah `tensorflow==2.13.0 atau tensorflow==2.15.0` jika terdapat error pada contoh code yang dibuat pada google colab ini."
      ],
      "metadata": {
        "id": "JI5_rHZsKqvq"
      }
    },
    {
      "cell_type": "markdown",
      "metadata": {
        "id": "py5x0xCURhXq"
      },
      "source": [
        "# Importing Libraries"
      ]
    },
    {
      "cell_type": "code",
      "source": [
        "!pip -q install tensorflow==2.15.0"
      ],
      "metadata": {
        "colab": {
          "base_uri": "https://localhost:8080/"
        },
        "id": "tK_p0CqYOwSd",
        "outputId": "7a15728c-3a0b-4d1a-ac6c-c83cd2edbcb2"
      },
      "execution_count": null,
      "outputs": [
        {
          "output_type": "stream",
          "name": "stdout",
          "text": [
            "\u001b[2K   \u001b[90m━━━━━━━━━━━━━━━━━━━━━━━━━━━━━━━━━━━━━━━━\u001b[0m \u001b[32m475.3/475.3 MB\u001b[0m \u001b[31m2.6 MB/s\u001b[0m eta \u001b[36m0:00:00\u001b[0m\n",
            "\u001b[2K   \u001b[90m━━━━━━━━━━━━━━━━━━━━━━━━━━━━━━━━━━━━━━━━\u001b[0m \u001b[32m1.7/1.7 MB\u001b[0m \u001b[31m71.3 MB/s\u001b[0m eta \u001b[36m0:00:00\u001b[0m\n",
            "\u001b[2K   \u001b[90m━━━━━━━━━━━━━━━━━━━━━━━━━━━━━━━━━━━━━━━━\u001b[0m \u001b[32m1.0/1.0 MB\u001b[0m \u001b[31m49.5 MB/s\u001b[0m eta \u001b[36m0:00:00\u001b[0m\n",
            "\u001b[2K   \u001b[90m━━━━━━━━━━━━━━━━━━━━━━━━━━━━━━━━━━━━━━━━\u001b[0m \u001b[32m5.5/5.5 MB\u001b[0m \u001b[31m108.2 MB/s\u001b[0m eta \u001b[36m0:00:00\u001b[0m\n",
            "\u001b[2K   \u001b[90m━━━━━━━━━━━━━━━━━━━━━━━━━━━━━━━━━━━━━━━━\u001b[0m \u001b[32m442.0/442.0 kB\u001b[0m \u001b[31m34.2 MB/s\u001b[0m eta \u001b[36m0:00:00\u001b[0m\n",
            "\u001b[2K   \u001b[90m━━━━━━━━━━━━━━━━━━━━━━━━━━━━━━━━━━━━━━━━\u001b[0m \u001b[32m78.4/78.4 kB\u001b[0m \u001b[31m6.8 MB/s\u001b[0m eta \u001b[36m0:00:00\u001b[0m\n",
            "\u001b[?25h\u001b[31mERROR: pip's dependency resolver does not currently take into account all the packages that are installed. This behaviour is the source of the following dependency conflicts.\n",
            "tf-keras 2.18.0 requires tensorflow<2.19,>=2.18, but you have tensorflow 2.15.0 which is incompatible.\n",
            "tensorflow-text 2.18.1 requires tensorflow<2.19,>=2.18.0, but you have tensorflow 2.15.0 which is incompatible.\n",
            "tensorstore 0.1.71 requires ml_dtypes>=0.3.1, but you have ml-dtypes 0.2.0 which is incompatible.\u001b[0m\u001b[31m\n",
            "\u001b[0m"
          ]
        }
      ]
    },
    {
      "cell_type": "code",
      "execution_count": null,
      "metadata": {
        "id": "O5yoKO4SRSz_"
      },
      "outputs": [],
      "source": [
        "import os\n",
        "import glob\n",
        "import numpy as np\n",
        "import pandas as pd\n",
        "import matplotlib.pyplot as plt\n",
        "import seaborn as sns\n",
        "\n",
        "import tensorflow as tf\n",
        "from tensorflow.keras.layers import Dense, Input, Conv2D, MaxPooling2D, Dropout, Concatenate\n",
        "from tensorflow.keras.models import Sequential, Model, load_model\n",
        "from tensorflow.keras.callbacks import EarlyStopping\n",
        "\n",
        "from tensorflow.keras.initializers import RandomNormal, HeNormal,GlorotNormal\n",
        "from tensorflow.keras.preprocessing.image import ImageDataGenerator\n",
        "from tensorflow.keras.applications import VGG16, Xception\n",
        "\n",
        "from sklearn.metrics import confusion_matrix ,accuracy_score, classification_report"
      ]
    },
    {
      "cell_type": "code",
      "execution_count": null,
      "metadata": {
        "colab": {
          "base_uri": "https://localhost:8080/"
        },
        "id": "WXp2hs4VR9TP",
        "outputId": "c944f109-8442-4513-9dd8-b7199d389122"
      },
      "outputs": [
        {
          "output_type": "stream",
          "name": "stdout",
          "text": [
            "2.15.0\n"
          ]
        }
      ],
      "source": [
        "print(tf.__version__)"
      ]
    },
    {
      "cell_type": "markdown",
      "metadata": {
        "id": "gaVKXDGtTZJK"
      },
      "source": [
        "# Data Loading"
      ]
    },
    {
      "cell_type": "code",
      "execution_count": null,
      "metadata": {
        "colab": {
          "base_uri": "https://localhost:8080/"
        },
        "id": "GEBDnsq-UDgc",
        "outputId": "54da006a-0240-4a73-b08c-b2921a149695"
      },
      "outputs": [
        {
          "output_type": "stream",
          "name": "stdout",
          "text": [
            "Dataset URL: https://www.kaggle.com/datasets/paultimothymooney/chest-xray-pneumonia\n",
            "License(s): other\n",
            "Downloading chest-xray-pneumonia.zip to /content\n",
            "100% 2.29G/2.29G [01:45<00:00, 23.6MB/s]\n",
            "100% 2.29G/2.29G [01:45<00:00, 23.4MB/s]\n"
          ]
        }
      ],
      "source": [
        "!kaggle datasets download -d paultimothymooney/chest-xray-pneumonia"
      ]
    },
    {
      "cell_type": "code",
      "execution_count": null,
      "metadata": {
        "id": "dp-UhB6HUJgY"
      },
      "outputs": [],
      "source": [
        "!unzip -q /content/chest-xray-pneumonia.zip"
      ]
    },
    {
      "cell_type": "code",
      "execution_count": null,
      "metadata": {
        "colab": {
          "base_uri": "https://localhost:8080/"
        },
        "id": "S9YsYUiDUQkJ",
        "outputId": "a5e5fa1e-bc10-4324-fb8b-b8736486ae79"
      },
      "outputs": [
        {
          "output_type": "execute_result",
          "data": {
            "text/plain": [
              "['__MACOSX', 'chest_xray', 'val', 'test', 'train']"
            ]
          },
          "metadata": {},
          "execution_count": 6
        }
      ],
      "source": [
        "os.listdir('/content/chest_xray')"
      ]
    },
    {
      "cell_type": "code",
      "execution_count": null,
      "metadata": {
        "colab": {
          "base_uri": "https://localhost:8080/"
        },
        "id": "WApy2eXWUdlW",
        "outputId": "479c6547-5d89-4865-f851-3dd38db50859"
      },
      "outputs": [
        {
          "output_type": "stream",
          "name": "stdout",
          "text": [
            "jumlah normal di data train: 1341\n",
            "jumlah pneumonia di data train: 3875\n"
          ]
        }
      ],
      "source": [
        "print('jumlah normal di data train:', len(os.listdir('/content/chest_xray/train/NORMAL')))\n",
        "print('jumlah pneumonia di data train:', len(os.listdir('/content/chest_xray/train/PNEUMONIA')))"
      ]
    },
    {
      "cell_type": "code",
      "execution_count": null,
      "metadata": {
        "colab": {
          "base_uri": "https://localhost:8080/"
        },
        "id": "99Ss0_e2VSb5",
        "outputId": "8fb76397-8511-4db1-d04a-bb08415c7880"
      },
      "outputs": [
        {
          "output_type": "stream",
          "name": "stdout",
          "text": [
            "jumlah NORMAL di data train: 1341\n",
            "jumlah PNEUMONIA di data train: 3875\n"
          ]
        }
      ],
      "source": [
        "list_label= ['NORMAL','PNEUMONIA']\n",
        "for label in list_label:\n",
        "  print(f'jumlah {label} di data train:', len(os.listdir(f'/content/chest_xray/train/{label}')))"
      ]
    },
    {
      "cell_type": "code",
      "execution_count": null,
      "metadata": {
        "colab": {
          "base_uri": "https://localhost:8080/"
        },
        "id": "dK55HeWHVmS6",
        "outputId": "31941ffa-e56b-448d-e7a0-2431d88b7882"
      },
      "outputs": [
        {
          "output_type": "stream",
          "name": "stdout",
          "text": [
            "jumlah NORMAL di data train: 1341\n",
            "jumlah PNEUMONIA di data train: 3875\n",
            "jumlah NORMAL di data test: 234\n",
            "jumlah PNEUMONIA di data test: 390\n",
            "jumlah NORMAL di data val: 8\n",
            "jumlah PNEUMONIA di data val: 8\n"
          ]
        }
      ],
      "source": [
        "list_label= ['NORMAL','PNEUMONIA']\n",
        "list_folder= ['train','test','val']\n",
        "for folder in list_folder:\n",
        "  for label in list_label:\n",
        "    print(f'jumlah {label} di data {folder}:', len(os.listdir(f'/content/chest_xray/{folder}/{label}')))"
      ]
    },
    {
      "cell_type": "code",
      "execution_count": null,
      "metadata": {
        "colab": {
          "base_uri": "https://localhost:8080/",
          "height": 35
        },
        "id": "Q-qdGby1W6kU",
        "outputId": "9b34eac3-1fe1-4c77-b3f1-29e0edd975f1"
      },
      "outputs": [
        {
          "output_type": "execute_result",
          "data": {
            "text/plain": [
              "'/content/chest_xray/NORMAL'"
            ],
            "application/vnd.google.colaboratory.intrinsic+json": {
              "type": "string"
            }
          },
          "metadata": {},
          "execution_count": 10
        }
      ],
      "source": [
        "main_path='/content/chest_xray'\n",
        "normal_path= main_path + '/' + list_label[0]\n",
        "normal_path"
      ]
    },
    {
      "cell_type": "code",
      "execution_count": null,
      "metadata": {
        "colab": {
          "base_uri": "https://localhost:8080/",
          "height": 35
        },
        "id": "OklUl6oiX03w",
        "outputId": "3b73a080-3574-469a-ade0-31d16c13dfa6"
      },
      "outputs": [
        {
          "output_type": "execute_result",
          "data": {
            "text/plain": [
              "'/content/chest_xray/NORMAL'"
            ],
            "application/vnd.google.colaboratory.intrinsic+json": {
              "type": "string"
            }
          },
          "metadata": {},
          "execution_count": 11
        }
      ],
      "source": [
        "os.path.join(main_path, list_label[0])"
      ]
    },
    {
      "cell_type": "code",
      "execution_count": null,
      "metadata": {
        "id": "d04-_geFYDMI"
      },
      "outputs": [],
      "source": [
        "# Initialize a list to store the data\n",
        "data = []\n",
        "# Loop through the 'train', 'val', and 'test' folders\n",
        "for subset in ['train', 'val', 'test']:\n",
        "    # Loop through the 'PNEUMONIA' and 'NORMAL' folders\n",
        "    for label in ['PNEUMONIA', 'NORMAL']:\n",
        "        # Use glob to get all image files in one step\n",
        "        image_paths = glob.glob(os.path.join(main_path, subset, label, '*'))\n",
        "        # Add image paths and labels to the data list\n",
        "        data.extend([{'images': path, 'labels': label}\n",
        "                     for path in image_paths if path.lower().endswith(('.jpeg', '.jpg'))])"
      ]
    },
    {
      "cell_type": "code",
      "execution_count": null,
      "metadata": {
        "id": "1gedrfgpbzVX",
        "colab": {
          "base_uri": "https://localhost:8080/",
          "height": 424
        },
        "outputId": "b5ba66f6-e30a-4ba0-df66-f8eb27736b73"
      },
      "outputs": [
        {
          "output_type": "execute_result",
          "data": {
            "text/plain": [
              "                                                 images     labels\n",
              "0     /content/chest_xray/train/PNEUMONIA/person604_...  PNEUMONIA\n",
              "1     /content/chest_xray/train/PNEUMONIA/person1445...  PNEUMONIA\n",
              "2     /content/chest_xray/train/NORMAL/NORMAL2-IM-04...     NORMAL\n",
              "3     /content/chest_xray/train/NORMAL/NORMAL2-IM-07...     NORMAL\n",
              "4     /content/chest_xray/train/PNEUMONIA/person1079...  PNEUMONIA\n",
              "...                                                 ...        ...\n",
              "5851  /content/chest_xray/train/NORMAL/IM-0748-0001....     NORMAL\n",
              "5852  /content/chest_xray/train/PNEUMONIA/person110_...  PNEUMONIA\n",
              "5853  /content/chest_xray/train/NORMAL/NORMAL2-IM-11...     NORMAL\n",
              "5854  /content/chest_xray/train/PNEUMONIA/person723_...  PNEUMONIA\n",
              "5855  /content/chest_xray/test/PNEUMONIA/person14_vi...  PNEUMONIA\n",
              "\n",
              "[5856 rows x 2 columns]"
            ],
            "text/html": [
              "\n",
              "  <div id=\"df-e874c78d-6d27-4155-9f2a-ff1dca1f0bb3\" class=\"colab-df-container\">\n",
              "    <div>\n",
              "<style scoped>\n",
              "    .dataframe tbody tr th:only-of-type {\n",
              "        vertical-align: middle;\n",
              "    }\n",
              "\n",
              "    .dataframe tbody tr th {\n",
              "        vertical-align: top;\n",
              "    }\n",
              "\n",
              "    .dataframe thead th {\n",
              "        text-align: right;\n",
              "    }\n",
              "</style>\n",
              "<table border=\"1\" class=\"dataframe\">\n",
              "  <thead>\n",
              "    <tr style=\"text-align: right;\">\n",
              "      <th></th>\n",
              "      <th>images</th>\n",
              "      <th>labels</th>\n",
              "    </tr>\n",
              "  </thead>\n",
              "  <tbody>\n",
              "    <tr>\n",
              "      <th>0</th>\n",
              "      <td>/content/chest_xray/train/PNEUMONIA/person604_...</td>\n",
              "      <td>PNEUMONIA</td>\n",
              "    </tr>\n",
              "    <tr>\n",
              "      <th>1</th>\n",
              "      <td>/content/chest_xray/train/PNEUMONIA/person1445...</td>\n",
              "      <td>PNEUMONIA</td>\n",
              "    </tr>\n",
              "    <tr>\n",
              "      <th>2</th>\n",
              "      <td>/content/chest_xray/train/NORMAL/NORMAL2-IM-04...</td>\n",
              "      <td>NORMAL</td>\n",
              "    </tr>\n",
              "    <tr>\n",
              "      <th>3</th>\n",
              "      <td>/content/chest_xray/train/NORMAL/NORMAL2-IM-07...</td>\n",
              "      <td>NORMAL</td>\n",
              "    </tr>\n",
              "    <tr>\n",
              "      <th>4</th>\n",
              "      <td>/content/chest_xray/train/PNEUMONIA/person1079...</td>\n",
              "      <td>PNEUMONIA</td>\n",
              "    </tr>\n",
              "    <tr>\n",
              "      <th>...</th>\n",
              "      <td>...</td>\n",
              "      <td>...</td>\n",
              "    </tr>\n",
              "    <tr>\n",
              "      <th>5851</th>\n",
              "      <td>/content/chest_xray/train/NORMAL/IM-0748-0001....</td>\n",
              "      <td>NORMAL</td>\n",
              "    </tr>\n",
              "    <tr>\n",
              "      <th>5852</th>\n",
              "      <td>/content/chest_xray/train/PNEUMONIA/person110_...</td>\n",
              "      <td>PNEUMONIA</td>\n",
              "    </tr>\n",
              "    <tr>\n",
              "      <th>5853</th>\n",
              "      <td>/content/chest_xray/train/NORMAL/NORMAL2-IM-11...</td>\n",
              "      <td>NORMAL</td>\n",
              "    </tr>\n",
              "    <tr>\n",
              "      <th>5854</th>\n",
              "      <td>/content/chest_xray/train/PNEUMONIA/person723_...</td>\n",
              "      <td>PNEUMONIA</td>\n",
              "    </tr>\n",
              "    <tr>\n",
              "      <th>5855</th>\n",
              "      <td>/content/chest_xray/test/PNEUMONIA/person14_vi...</td>\n",
              "      <td>PNEUMONIA</td>\n",
              "    </tr>\n",
              "  </tbody>\n",
              "</table>\n",
              "<p>5856 rows × 2 columns</p>\n",
              "</div>\n",
              "    <div class=\"colab-df-buttons\">\n",
              "\n",
              "  <div class=\"colab-df-container\">\n",
              "    <button class=\"colab-df-convert\" onclick=\"convertToInteractive('df-e874c78d-6d27-4155-9f2a-ff1dca1f0bb3')\"\n",
              "            title=\"Convert this dataframe to an interactive table.\"\n",
              "            style=\"display:none;\">\n",
              "\n",
              "  <svg xmlns=\"http://www.w3.org/2000/svg\" height=\"24px\" viewBox=\"0 -960 960 960\">\n",
              "    <path d=\"M120-120v-720h720v720H120Zm60-500h600v-160H180v160Zm220 220h160v-160H400v160Zm0 220h160v-160H400v160ZM180-400h160v-160H180v160Zm440 0h160v-160H620v160ZM180-180h160v-160H180v160Zm440 0h160v-160H620v160Z\"/>\n",
              "  </svg>\n",
              "    </button>\n",
              "\n",
              "  <style>\n",
              "    .colab-df-container {\n",
              "      display:flex;\n",
              "      gap: 12px;\n",
              "    }\n",
              "\n",
              "    .colab-df-convert {\n",
              "      background-color: #E8F0FE;\n",
              "      border: none;\n",
              "      border-radius: 50%;\n",
              "      cursor: pointer;\n",
              "      display: none;\n",
              "      fill: #1967D2;\n",
              "      height: 32px;\n",
              "      padding: 0 0 0 0;\n",
              "      width: 32px;\n",
              "    }\n",
              "\n",
              "    .colab-df-convert:hover {\n",
              "      background-color: #E2EBFA;\n",
              "      box-shadow: 0px 1px 2px rgba(60, 64, 67, 0.3), 0px 1px 3px 1px rgba(60, 64, 67, 0.15);\n",
              "      fill: #174EA6;\n",
              "    }\n",
              "\n",
              "    .colab-df-buttons div {\n",
              "      margin-bottom: 4px;\n",
              "    }\n",
              "\n",
              "    [theme=dark] .colab-df-convert {\n",
              "      background-color: #3B4455;\n",
              "      fill: #D2E3FC;\n",
              "    }\n",
              "\n",
              "    [theme=dark] .colab-df-convert:hover {\n",
              "      background-color: #434B5C;\n",
              "      box-shadow: 0px 1px 3px 1px rgba(0, 0, 0, 0.15);\n",
              "      filter: drop-shadow(0px 1px 2px rgba(0, 0, 0, 0.3));\n",
              "      fill: #FFFFFF;\n",
              "    }\n",
              "  </style>\n",
              "\n",
              "    <script>\n",
              "      const buttonEl =\n",
              "        document.querySelector('#df-e874c78d-6d27-4155-9f2a-ff1dca1f0bb3 button.colab-df-convert');\n",
              "      buttonEl.style.display =\n",
              "        google.colab.kernel.accessAllowed ? 'block' : 'none';\n",
              "\n",
              "      async function convertToInteractive(key) {\n",
              "        const element = document.querySelector('#df-e874c78d-6d27-4155-9f2a-ff1dca1f0bb3');\n",
              "        const dataTable =\n",
              "          await google.colab.kernel.invokeFunction('convertToInteractive',\n",
              "                                                    [key], {});\n",
              "        if (!dataTable) return;\n",
              "\n",
              "        const docLinkHtml = 'Like what you see? Visit the ' +\n",
              "          '<a target=\"_blank\" href=https://colab.research.google.com/notebooks/data_table.ipynb>data table notebook</a>'\n",
              "          + ' to learn more about interactive tables.';\n",
              "        element.innerHTML = '';\n",
              "        dataTable['output_type'] = 'display_data';\n",
              "        await google.colab.output.renderOutput(dataTable, element);\n",
              "        const docLink = document.createElement('div');\n",
              "        docLink.innerHTML = docLinkHtml;\n",
              "        element.appendChild(docLink);\n",
              "      }\n",
              "    </script>\n",
              "  </div>\n",
              "\n",
              "\n",
              "<div id=\"df-2e2ab7cd-c5d0-4311-9d37-ac54aaf3d44a\">\n",
              "  <button class=\"colab-df-quickchart\" onclick=\"quickchart('df-2e2ab7cd-c5d0-4311-9d37-ac54aaf3d44a')\"\n",
              "            title=\"Suggest charts\"\n",
              "            style=\"display:none;\">\n",
              "\n",
              "<svg xmlns=\"http://www.w3.org/2000/svg\" height=\"24px\"viewBox=\"0 0 24 24\"\n",
              "     width=\"24px\">\n",
              "    <g>\n",
              "        <path d=\"M19 3H5c-1.1 0-2 .9-2 2v14c0 1.1.9 2 2 2h14c1.1 0 2-.9 2-2V5c0-1.1-.9-2-2-2zM9 17H7v-7h2v7zm4 0h-2V7h2v10zm4 0h-2v-4h2v4z\"/>\n",
              "    </g>\n",
              "</svg>\n",
              "  </button>\n",
              "\n",
              "<style>\n",
              "  .colab-df-quickchart {\n",
              "      --bg-color: #E8F0FE;\n",
              "      --fill-color: #1967D2;\n",
              "      --hover-bg-color: #E2EBFA;\n",
              "      --hover-fill-color: #174EA6;\n",
              "      --disabled-fill-color: #AAA;\n",
              "      --disabled-bg-color: #DDD;\n",
              "  }\n",
              "\n",
              "  [theme=dark] .colab-df-quickchart {\n",
              "      --bg-color: #3B4455;\n",
              "      --fill-color: #D2E3FC;\n",
              "      --hover-bg-color: #434B5C;\n",
              "      --hover-fill-color: #FFFFFF;\n",
              "      --disabled-bg-color: #3B4455;\n",
              "      --disabled-fill-color: #666;\n",
              "  }\n",
              "\n",
              "  .colab-df-quickchart {\n",
              "    background-color: var(--bg-color);\n",
              "    border: none;\n",
              "    border-radius: 50%;\n",
              "    cursor: pointer;\n",
              "    display: none;\n",
              "    fill: var(--fill-color);\n",
              "    height: 32px;\n",
              "    padding: 0;\n",
              "    width: 32px;\n",
              "  }\n",
              "\n",
              "  .colab-df-quickchart:hover {\n",
              "    background-color: var(--hover-bg-color);\n",
              "    box-shadow: 0 1px 2px rgba(60, 64, 67, 0.3), 0 1px 3px 1px rgba(60, 64, 67, 0.15);\n",
              "    fill: var(--button-hover-fill-color);\n",
              "  }\n",
              "\n",
              "  .colab-df-quickchart-complete:disabled,\n",
              "  .colab-df-quickchart-complete:disabled:hover {\n",
              "    background-color: var(--disabled-bg-color);\n",
              "    fill: var(--disabled-fill-color);\n",
              "    box-shadow: none;\n",
              "  }\n",
              "\n",
              "  .colab-df-spinner {\n",
              "    border: 2px solid var(--fill-color);\n",
              "    border-color: transparent;\n",
              "    border-bottom-color: var(--fill-color);\n",
              "    animation:\n",
              "      spin 1s steps(1) infinite;\n",
              "  }\n",
              "\n",
              "  @keyframes spin {\n",
              "    0% {\n",
              "      border-color: transparent;\n",
              "      border-bottom-color: var(--fill-color);\n",
              "      border-left-color: var(--fill-color);\n",
              "    }\n",
              "    20% {\n",
              "      border-color: transparent;\n",
              "      border-left-color: var(--fill-color);\n",
              "      border-top-color: var(--fill-color);\n",
              "    }\n",
              "    30% {\n",
              "      border-color: transparent;\n",
              "      border-left-color: var(--fill-color);\n",
              "      border-top-color: var(--fill-color);\n",
              "      border-right-color: var(--fill-color);\n",
              "    }\n",
              "    40% {\n",
              "      border-color: transparent;\n",
              "      border-right-color: var(--fill-color);\n",
              "      border-top-color: var(--fill-color);\n",
              "    }\n",
              "    60% {\n",
              "      border-color: transparent;\n",
              "      border-right-color: var(--fill-color);\n",
              "    }\n",
              "    80% {\n",
              "      border-color: transparent;\n",
              "      border-right-color: var(--fill-color);\n",
              "      border-bottom-color: var(--fill-color);\n",
              "    }\n",
              "    90% {\n",
              "      border-color: transparent;\n",
              "      border-bottom-color: var(--fill-color);\n",
              "    }\n",
              "  }\n",
              "</style>\n",
              "\n",
              "  <script>\n",
              "    async function quickchart(key) {\n",
              "      const quickchartButtonEl =\n",
              "        document.querySelector('#' + key + ' button');\n",
              "      quickchartButtonEl.disabled = true;  // To prevent multiple clicks.\n",
              "      quickchartButtonEl.classList.add('colab-df-spinner');\n",
              "      try {\n",
              "        const charts = await google.colab.kernel.invokeFunction(\n",
              "            'suggestCharts', [key], {});\n",
              "      } catch (error) {\n",
              "        console.error('Error during call to suggestCharts:', error);\n",
              "      }\n",
              "      quickchartButtonEl.classList.remove('colab-df-spinner');\n",
              "      quickchartButtonEl.classList.add('colab-df-quickchart-complete');\n",
              "    }\n",
              "    (() => {\n",
              "      let quickchartButtonEl =\n",
              "        document.querySelector('#df-2e2ab7cd-c5d0-4311-9d37-ac54aaf3d44a button');\n",
              "      quickchartButtonEl.style.display =\n",
              "        google.colab.kernel.accessAllowed ? 'block' : 'none';\n",
              "    })();\n",
              "  </script>\n",
              "</div>\n",
              "\n",
              "  <div id=\"id_af80c480-0679-4dba-9560-951d33b6b0d7\">\n",
              "    <style>\n",
              "      .colab-df-generate {\n",
              "        background-color: #E8F0FE;\n",
              "        border: none;\n",
              "        border-radius: 50%;\n",
              "        cursor: pointer;\n",
              "        display: none;\n",
              "        fill: #1967D2;\n",
              "        height: 32px;\n",
              "        padding: 0 0 0 0;\n",
              "        width: 32px;\n",
              "      }\n",
              "\n",
              "      .colab-df-generate:hover {\n",
              "        background-color: #E2EBFA;\n",
              "        box-shadow: 0px 1px 2px rgba(60, 64, 67, 0.3), 0px 1px 3px 1px rgba(60, 64, 67, 0.15);\n",
              "        fill: #174EA6;\n",
              "      }\n",
              "\n",
              "      [theme=dark] .colab-df-generate {\n",
              "        background-color: #3B4455;\n",
              "        fill: #D2E3FC;\n",
              "      }\n",
              "\n",
              "      [theme=dark] .colab-df-generate:hover {\n",
              "        background-color: #434B5C;\n",
              "        box-shadow: 0px 1px 3px 1px rgba(0, 0, 0, 0.15);\n",
              "        filter: drop-shadow(0px 1px 2px rgba(0, 0, 0, 0.3));\n",
              "        fill: #FFFFFF;\n",
              "      }\n",
              "    </style>\n",
              "    <button class=\"colab-df-generate\" onclick=\"generateWithVariable('img_df')\"\n",
              "            title=\"Generate code using this dataframe.\"\n",
              "            style=\"display:none;\">\n",
              "\n",
              "  <svg xmlns=\"http://www.w3.org/2000/svg\" height=\"24px\"viewBox=\"0 0 24 24\"\n",
              "       width=\"24px\">\n",
              "    <path d=\"M7,19H8.4L18.45,9,17,7.55,7,17.6ZM5,21V16.75L18.45,3.32a2,2,0,0,1,2.83,0l1.4,1.43a1.91,1.91,0,0,1,.58,1.4,1.91,1.91,0,0,1-.58,1.4L9.25,21ZM18.45,9,17,7.55Zm-12,3A5.31,5.31,0,0,0,4.9,8.1,5.31,5.31,0,0,0,1,6.5,5.31,5.31,0,0,0,4.9,4.9,5.31,5.31,0,0,0,6.5,1,5.31,5.31,0,0,0,8.1,4.9,5.31,5.31,0,0,0,12,6.5,5.46,5.46,0,0,0,6.5,12Z\"/>\n",
              "  </svg>\n",
              "    </button>\n",
              "    <script>\n",
              "      (() => {\n",
              "      const buttonEl =\n",
              "        document.querySelector('#id_af80c480-0679-4dba-9560-951d33b6b0d7 button.colab-df-generate');\n",
              "      buttonEl.style.display =\n",
              "        google.colab.kernel.accessAllowed ? 'block' : 'none';\n",
              "\n",
              "      buttonEl.onclick = () => {\n",
              "        google.colab.notebook.generateWithVariable('img_df');\n",
              "      }\n",
              "      })();\n",
              "    </script>\n",
              "  </div>\n",
              "\n",
              "    </div>\n",
              "  </div>\n"
            ],
            "application/vnd.google.colaboratory.intrinsic+json": {
              "type": "dataframe",
              "variable_name": "img_df",
              "summary": "{\n  \"name\": \"img_df\",\n  \"rows\": 5856,\n  \"fields\": [\n    {\n      \"column\": \"images\",\n      \"properties\": {\n        \"dtype\": \"string\",\n        \"num_unique_values\": 5856,\n        \"samples\": [\n          \"/content/chest_xray/train/PNEUMONIA/person1429_virus_2443.jpeg\",\n          \"/content/chest_xray/train/PNEUMONIA/person357_virus_736.jpeg\",\n          \"/content/chest_xray/train/PNEUMONIA/person475_bacteria_2022.jpeg\"\n        ],\n        \"semantic_type\": \"\",\n        \"description\": \"\"\n      }\n    },\n    {\n      \"column\": \"labels\",\n      \"properties\": {\n        \"dtype\": \"category\",\n        \"num_unique_values\": 2,\n        \"samples\": [\n          \"NORMAL\",\n          \"PNEUMONIA\"\n        ],\n        \"semantic_type\": \"\",\n        \"description\": \"\"\n      }\n    }\n  ]\n}"
            }
          },
          "metadata": {},
          "execution_count": 13
        }
      ],
      "source": [
        "# Create a Pandas DataFrame that contains the path of all images\n",
        "img_df = pd.DataFrame(data)\n",
        "img_df = img_df.sample(len(img_df)).reset_index(drop=True)\n",
        "img_df"
      ]
    },
    {
      "cell_type": "code",
      "execution_count": null,
      "metadata": {
        "colab": {
          "base_uri": "https://localhost:8080/"
        },
        "id": "5J851k2kcdcH",
        "outputId": "30b7d233-c907-4669-9ff2-360cd4ae7bbe"
      },
      "outputs": [
        {
          "output_type": "stream",
          "name": "stdout",
          "text": [
            "Found 4685 validated image filenames belonging to 2 classes.\n",
            "Found 1171 validated image filenames belonging to 2 classes.\n"
          ]
        }
      ],
      "source": [
        "datagen = ImageDataGenerator(rescale=1./255.,\n",
        "                                   validation_split=0.2)\n",
        "\n",
        "train_gen = datagen.flow_from_dataframe(\n",
        "\timg_df,\n",
        "  x_col='images',\n",
        "  y_col='labels',\n",
        "\ttarget_size=(150,150),\n",
        "\tclass_mode='binary',\n",
        "  batch_size=32,\n",
        "  subset='training',\n",
        "\tshuffle=False\n",
        ")\n",
        "test_gen = datagen.flow_from_dataframe(\n",
        "\timg_df,\n",
        "  x_col='images',\n",
        "  y_col='labels',\n",
        "\ttarget_size=(150,150),\n",
        "\tclass_mode='binary',\n",
        "  subset='validation',\n",
        "  batch_size=32,\n",
        "\tshuffle=False\n",
        ")"
      ]
    },
    {
      "cell_type": "code",
      "execution_count": null,
      "metadata": {
        "colab": {
          "base_uri": "https://localhost:8080/"
        },
        "id": "gnKmBgGjdiDl",
        "outputId": "ee929ba3-bca0-451c-beb2-a72a46aac17c"
      },
      "outputs": [
        {
          "output_type": "stream",
          "name": "stdout",
          "text": [
            "{'NORMAL': 0, 'PNEUMONIA': 1}\n",
            "{'NORMAL': 0, 'PNEUMONIA': 1}\n"
          ]
        }
      ],
      "source": [
        "print(train_gen.class_indices)\n",
        "print(test_gen.class_indices)"
      ]
    },
    {
      "cell_type": "markdown",
      "metadata": {
        "id": "DhbJaBg9cadN"
      },
      "source": [
        "# Model CNN"
      ]
    },
    {
      "cell_type": "code",
      "execution_count": null,
      "metadata": {
        "id": "XHh7BVAgdtz1"
      },
      "outputs": [],
      "source": [
        "model = tf.keras.models.Sequential()\n",
        "\n",
        "model.add(tf.keras.layers.Conv2D(32, (3,3),activation='relu', input_shape=(150, 150, 3)))\n",
        "model.add(tf.keras.layers.MaxPooling2D(2, 2))\n",
        "model.add(tf.keras.layers.Conv2D(64, (3,3), activation='relu'))\n",
        "model.add(tf.keras.layers.MaxPooling2D(2, 2))\n",
        "model.add(tf.keras.layers.Conv2D(128, (3,3),activation='relu'))\n",
        "model.add(tf.keras.layers.MaxPooling2D(2, 2))\n",
        "model.add(tf.keras.layers.GlobalAveragePooling2D())\n",
        "model.add(tf.keras.layers.Dropout(0.5))\n",
        "model.add(tf.keras.layers.Dense(512, activation='relu'))\n",
        "model.add(tf.keras.layers.Dense(1, activation='sigmoid'))"
      ]
    },
    {
      "cell_type": "code",
      "execution_count": null,
      "metadata": {
        "colab": {
          "base_uri": "https://localhost:8080/"
        },
        "id": "Z1BFqTb7d4L3",
        "outputId": "3507eaea-a2b4-4d0c-f2be-ca0ce9a1c0af"
      },
      "outputs": [
        {
          "output_type": "stream",
          "name": "stdout",
          "text": [
            "Model: \"sequential\"\n",
            "_________________________________________________________________\n",
            " Layer (type)                Output Shape              Param #   \n",
            "=================================================================\n",
            " conv2d (Conv2D)             (None, 148, 148, 32)      896       \n",
            "                                                                 \n",
            " max_pooling2d (MaxPooling2  (None, 74, 74, 32)        0         \n",
            " D)                                                              \n",
            "                                                                 \n",
            " conv2d_1 (Conv2D)           (None, 72, 72, 64)        18496     \n",
            "                                                                 \n",
            " max_pooling2d_1 (MaxPoolin  (None, 36, 36, 64)        0         \n",
            " g2D)                                                            \n",
            "                                                                 \n",
            " conv2d_2 (Conv2D)           (None, 34, 34, 128)       73856     \n",
            "                                                                 \n",
            " max_pooling2d_2 (MaxPoolin  (None, 17, 17, 128)       0         \n",
            " g2D)                                                            \n",
            "                                                                 \n",
            " global_average_pooling2d (  (None, 128)               0         \n",
            " GlobalAveragePooling2D)                                         \n",
            "                                                                 \n",
            " dropout (Dropout)           (None, 128)               0         \n",
            "                                                                 \n",
            " dense (Dense)               (None, 512)               66048     \n",
            "                                                                 \n",
            " dense_1 (Dense)             (None, 1)                 513       \n",
            "                                                                 \n",
            "=================================================================\n",
            "Total params: 159809 (624.25 KB)\n",
            "Trainable params: 159809 (624.25 KB)\n",
            "Non-trainable params: 0 (0.00 Byte)\n",
            "_________________________________________________________________\n"
          ]
        }
      ],
      "source": [
        "model.summary()"
      ]
    },
    {
      "cell_type": "code",
      "execution_count": null,
      "metadata": {
        "id": "-Kw6V1wdSq89"
      },
      "outputs": [],
      "source": [
        "callbacks=[\n",
        "    EarlyStopping(monitor='val_accuracy', patience=3, restore_best_weights=True)\n",
        "]"
      ]
    },
    {
      "cell_type": "code",
      "execution_count": null,
      "metadata": {
        "colab": {
          "base_uri": "https://localhost:8080/"
        },
        "id": "xDaBg99id6hL",
        "outputId": "6b22bc07-4cb5-4daf-fadf-c4f3669aef0f"
      },
      "outputs": [
        {
          "output_type": "stream",
          "name": "stdout",
          "text": [
            "Epoch 1/30\n",
            "147/147 [==============================] - 234s 2s/step - loss: 0.5992 - accuracy: 0.7247 - val_loss: 0.5836 - val_accuracy: 0.7259\n",
            "Epoch 2/30\n",
            "147/147 [==============================] - 251s 2s/step - loss: 0.4789 - accuracy: 0.7725 - val_loss: 0.3753 - val_accuracy: 0.8198\n",
            "Epoch 3/30\n",
            "147/147 [==============================] - 242s 2s/step - loss: 0.3568 - accuracy: 0.8346 - val_loss: 0.3022 - val_accuracy: 0.8625\n",
            "Epoch 4/30\n",
            "147/147 [==============================] - 231s 2s/step - loss: 0.3107 - accuracy: 0.8540 - val_loss: 0.2763 - val_accuracy: 0.8762\n",
            "Epoch 5/30\n",
            "147/147 [==============================] - 231s 2s/step - loss: 0.2866 - accuracy: 0.8734 - val_loss: 0.2676 - val_accuracy: 0.8770\n",
            "Epoch 6/30\n",
            "147/147 [==============================] - 229s 2s/step - loss: 0.2731 - accuracy: 0.8822 - val_loss: 0.2561 - val_accuracy: 0.8830\n",
            "Epoch 7/30\n",
            "147/147 [==============================] - 249s 2s/step - loss: 0.2524 - accuracy: 0.8875 - val_loss: 0.2347 - val_accuracy: 0.8967\n",
            "Epoch 8/30\n",
            "147/147 [==============================] - 250s 2s/step - loss: 0.2449 - accuracy: 0.8928 - val_loss: 0.2415 - val_accuracy: 0.8941\n",
            "Epoch 9/30\n",
            "147/147 [==============================] - 232s 2s/step - loss: 0.2311 - accuracy: 0.8997 - val_loss: 0.2133 - val_accuracy: 0.9069\n",
            "Epoch 10/30\n",
            "147/147 [==============================] - 250s 2s/step - loss: 0.2179 - accuracy: 0.9146 - val_loss: 0.2504 - val_accuracy: 0.8907\n",
            "Epoch 11/30\n",
            "147/147 [==============================] - 230s 2s/step - loss: 0.2211 - accuracy: 0.9086 - val_loss: 0.2128 - val_accuracy: 0.9146\n",
            "Epoch 12/30\n",
            "147/147 [==============================] - 231s 2s/step - loss: 0.2156 - accuracy: 0.9101 - val_loss: 0.2151 - val_accuracy: 0.9069\n",
            "Epoch 13/30\n",
            "147/147 [==============================] - 232s 2s/step - loss: 0.1938 - accuracy: 0.9210 - val_loss: 0.1878 - val_accuracy: 0.9206\n",
            "Epoch 14/30\n",
            "147/147 [==============================] - 229s 2s/step - loss: 0.1988 - accuracy: 0.9187 - val_loss: 0.1939 - val_accuracy: 0.9155\n",
            "Epoch 15/30\n",
            "147/147 [==============================] - 232s 2s/step - loss: 0.1878 - accuracy: 0.9221 - val_loss: 0.2423 - val_accuracy: 0.8984\n",
            "Epoch 16/30\n",
            "147/147 [==============================] - 230s 2s/step - loss: 0.1843 - accuracy: 0.9227 - val_loss: 0.1783 - val_accuracy: 0.9223\n",
            "Epoch 17/30\n",
            "147/147 [==============================] - 248s 2s/step - loss: 0.1743 - accuracy: 0.9287 - val_loss: 0.2147 - val_accuracy: 0.9061\n",
            "Epoch 18/30\n",
            "147/147 [==============================] - 249s 2s/step - loss: 0.1795 - accuracy: 0.9270 - val_loss: 0.1752 - val_accuracy: 0.9240\n",
            "Epoch 19/30\n",
            "147/147 [==============================] - 231s 2s/step - loss: 0.1682 - accuracy: 0.9334 - val_loss: 0.2395 - val_accuracy: 0.9018\n",
            "Epoch 20/30\n",
            "147/147 [==============================] - 227s 2s/step - loss: 0.1872 - accuracy: 0.9257 - val_loss: 0.1904 - val_accuracy: 0.9197\n",
            "Epoch 21/30\n",
            "102/147 [===================>..........] - ETA: 1:02 - loss: 0.1603 - accuracy: 0.9368"
          ]
        }
      ],
      "source": [
        "model.compile(loss = 'binary_crossentropy', optimizer='Adam', metrics=['accuracy'])\n",
        "\n",
        "history = model.fit(train_gen, epochs=30,\n",
        "                    validation_data = test_gen,\n",
        "                    callbacks=callbacks)"
      ]
    },
    {
      "cell_type": "code",
      "execution_count": null,
      "metadata": {
        "id": "p_-UzU4meFmJ"
      },
      "outputs": [],
      "source": [
        "epoch=12\n",
        "\n",
        "fig, ax = plt.subplots(ncols=2,figsize=(16,5))\n",
        "ax[0].plot(range(1,epoch+1),history.history['loss'],label='loss')\n",
        "ax[0].plot(range(1,epoch+1),history.history['val_loss'],label='val_loss')\n",
        "ax[0].set_title('Loss')\n",
        "ax[0].legend()\n",
        "ax[0].set_xlabel('Epoch')\n",
        "#ax[0].set_ylim(0,0.01)\n",
        "\n",
        "ax[1].plot(range(1,epoch+1),history.history['accuracy'],label='accuracy')\n",
        "ax[1].plot(range(1,epoch+1),history.history['val_accuracy'],label='val_accuracy')\n",
        "ax[1].set_title('Accuracy')\n",
        "ax[1].legend()\n",
        "ax[1].set_xlabel('Epoch')\n",
        "#ax[1].set_ylim(0.5,1.5)\n",
        "\n",
        "plt.show()"
      ]
    },
    {
      "cell_type": "code",
      "execution_count": null,
      "metadata": {
        "colab": {
          "base_uri": "https://localhost:8080/"
        },
        "id": "gzWwrNclWHM6",
        "outputId": "04f7ed64-ad35-46c1-c356-aa71fb532264"
      },
      "outputs": [
        {
          "name": "stdout",
          "output_type": "stream",
          "text": [
            "loss 0.21\n",
            "acc 0.92\n"
          ]
        }
      ],
      "source": [
        "test_results= model.evaluate(test_gen,verbose=0)\n",
        "print(f'loss {test_results[0]:.2f}')\n",
        "print(f'acc {test_results[1]:.2f}')"
      ]
    },
    {
      "cell_type": "code",
      "execution_count": null,
      "metadata": {
        "colab": {
          "base_uri": "https://localhost:8080/"
        },
        "id": "6FVpELs5au-z",
        "outputId": "3d2a3ef6-32a0-4426-d5c9-12f64c58a21b"
      },
      "outputs": [
        {
          "name": "stdout",
          "output_type": "stream",
          "text": [
            "37/37 [==============================] - 11s 288ms/step\n"
          ]
        },
        {
          "data": {
            "text/plain": [
              "array([[0.9992912 ],\n",
              "       [0.8528197 ],\n",
              "       [0.05398419],\n",
              "       ...,\n",
              "       [0.98154354],\n",
              "       [0.97147435],\n",
              "       [0.99917847]], dtype=float32)"
            ]
          },
          "execution_count": 38,
          "metadata": {},
          "output_type": "execute_result"
        }
      ],
      "source": [
        "model.predict(test_gen)"
      ]
    },
    {
      "cell_type": "code",
      "execution_count": null,
      "metadata": {
        "colab": {
          "base_uri": "https://localhost:8080/"
        },
        "id": "2_YDlUL9bWYD",
        "outputId": "7663009e-d4b1-4d0c-9db2-9d819ac37025"
      },
      "outputs": [
        {
          "name": "stdout",
          "output_type": "stream",
          "text": [
            "37/37 [==============================] - 11s 287ms/step\n"
          ]
        }
      ],
      "source": [
        "proba_pred= model.predict(test_gen)"
      ]
    },
    {
      "cell_type": "code",
      "execution_count": null,
      "metadata": {
        "colab": {
          "base_uri": "https://localhost:8080/"
        },
        "id": "ZEH_Fs8sboT-",
        "outputId": "16d33235-e1e2-4a57-9461-623eff63cdc6"
      },
      "outputs": [
        {
          "data": {
            "text/plain": [
              "(1171, 1)"
            ]
          },
          "execution_count": 42,
          "metadata": {},
          "output_type": "execute_result"
        }
      ],
      "source": [
        "proba_pred.shape"
      ]
    },
    {
      "cell_type": "code",
      "execution_count": null,
      "metadata": {
        "colab": {
          "base_uri": "https://localhost:8080/"
        },
        "id": "NejPPImcbufx",
        "outputId": "2e6ebea0-5479-48cb-8704-76e47d8ddb7f"
      },
      "outputs": [
        {
          "data": {
            "text/plain": [
              "array([[0.9992912 ],\n",
              "       [0.8528197 ],\n",
              "       [0.05398419],\n",
              "       ...,\n",
              "       [0.98154354],\n",
              "       [0.97147435],\n",
              "       [0.99917847]], dtype=float32)"
            ]
          },
          "execution_count": 44,
          "metadata": {},
          "output_type": "execute_result"
        }
      ],
      "source": [
        "proba_pred"
      ]
    },
    {
      "cell_type": "code",
      "execution_count": null,
      "metadata": {
        "id": "JJwPdZueb31b"
      },
      "outputs": [],
      "source": [
        "test_pred_06=tf.where(proba_pred>0.6, 1, 0)"
      ]
    },
    {
      "cell_type": "code",
      "execution_count": null,
      "metadata": {
        "id": "A_8RbKxmeeau"
      },
      "outputs": [],
      "source": [
        "test_pred_05=tf.where(proba_pred>0.5, 1, 0)"
      ]
    },
    {
      "cell_type": "code",
      "execution_count": null,
      "metadata": {
        "colab": {
          "base_uri": "https://localhost:8080/"
        },
        "id": "ySTr3vU7bJSI",
        "outputId": "e179168a-8c0a-4d59-af00-ba324dd5bac1"
      },
      "outputs": [
        {
          "data": {
            "text/plain": [
              "1171"
            ]
          },
          "execution_count": 51,
          "metadata": {},
          "output_type": "execute_result"
        }
      ],
      "source": [
        "list_true_labels= test_gen.classes\n",
        "len(list_true_labels)"
      ]
    },
    {
      "cell_type": "code",
      "execution_count": null,
      "metadata": {
        "colab": {
          "base_uri": "https://localhost:8080/"
        },
        "id": "Go5LKi5ScBaq",
        "outputId": "5fe4eefc-8419-4df3-a242-702f7268ed7e"
      },
      "outputs": [
        {
          "name": "stdout",
          "output_type": "stream",
          "text": [
            "classification report dengan threshold 0.6\n",
            "              precision    recall  f1-score   support\n",
            "\n",
            "           0       0.82      0.90      0.86       317\n",
            "           1       0.96      0.93      0.94       854\n",
            "\n",
            "    accuracy                           0.92      1171\n",
            "   macro avg       0.89      0.91      0.90      1171\n",
            "weighted avg       0.92      0.92      0.92      1171\n",
            "\n"
          ]
        }
      ],
      "source": [
        "print('classification report dengan threshold 0.6')\n",
        "print(classification_report(list_true_labels, test_pred_06))"
      ]
    },
    {
      "cell_type": "code",
      "execution_count": null,
      "metadata": {
        "colab": {
          "base_uri": "https://localhost:8080/"
        },
        "id": "nvXPg528egzl",
        "outputId": "18ab70b4-0008-4080-8838-e1efb2ce9f05"
      },
      "outputs": [
        {
          "name": "stdout",
          "output_type": "stream",
          "text": [
            "classification report dengan threshold 0.5\n",
            "              precision    recall  f1-score   support\n",
            "\n",
            "           0       0.86      0.85      0.86       317\n",
            "           1       0.95      0.95      0.95       854\n",
            "\n",
            "    accuracy                           0.92      1171\n",
            "   macro avg       0.90      0.90      0.90      1171\n",
            "weighted avg       0.92      0.92      0.92      1171\n",
            "\n"
          ]
        }
      ],
      "source": [
        "print('classification report dengan threshold 0.5')\n",
        "print(classification_report(list_true_labels, test_pred_05))"
      ]
    },
    {
      "cell_type": "code",
      "execution_count": null,
      "metadata": {
        "colab": {
          "base_uri": "https://localhost:8080/",
          "height": 410
        },
        "id": "QGnpLFJ6iIZV",
        "outputId": "8174e9a9-42d5-44ab-f096-6b95efc71353"
      },
      "outputs": [
        {
          "data": {
            "image/png": "[encoded data removed]",
            "text/plain": [
              "<Figure size 600x400 with 1 Axes>"
            ]
          },
          "metadata": {},
          "output_type": "display_data"
        }
      ],
      "source": [
        "# Menghitung confusion matrix\n",
        "conf_matrix = confusion_matrix(list_true_labels, test_pred_05)\n",
        "\n",
        "# Membuat heatmap dari confusion matrix\n",
        "plt.figure(figsize=(6, 4))\n",
        "sns.heatmap(conf_matrix, annot=True, fmt='d', cmap='Blues', cbar=False)\n",
        "plt.title('Confusion Matrix')\n",
        "plt.xlabel('Predicted Labels')\n",
        "plt.ylabel('True Labels')\n",
        "plt.show()"
      ]
    },
    {
      "cell_type": "markdown",
      "metadata": {
        "id": "ZXySe213f2Gd"
      },
      "source": [
        "## Menangani Imbalance Data"
      ]
    },
    {
      "cell_type": "markdown",
      "metadata": {
        "id": "gFcwJZ17f5SW"
      },
      "source": [
        "Berikut adalah beberapa referensi jika anda ingin menangani imbalance data:\n",
        "- [menggunakan pengaturan loss](https://www.tensorflow.org/api_docs/python/tf/keras/losses/BinaryFocalCrossentropy)\n",
        "- [class_weight](https://towardsdatascience.com/dealing-with-imbalanced-data-in-tensorflow-class-weights-60f876911f99)\n",
        "- [Menggunakan threshold](https://machinelearningmastery.com/framework-for-imbalanced-classification-projects/)\n",
        "- [Step-By-Step Framework for Imbalanced Classification Projects](https://machinelearningmastery.com/framework-for-imbalanced-classification-projects/)"
      ]
    },
    {
      "cell_type": "markdown",
      "metadata": {
        "id": "zcMLcBXzU-W1"
      },
      "source": [
        "# Transfer Learning - Xception"
      ]
    },
    {
      "cell_type": "code",
      "execution_count": null,
      "metadata": {
        "colab": {
          "base_uri": "https://localhost:8080/"
        },
        "id": "eIEbalQbVKh7",
        "outputId": "bb281491-f1ce-4e56-e930-407fd5c97d5d"
      },
      "outputs": [
        {
          "name": "stdout",
          "output_type": "stream",
          "text": [
            "Downloading data from https://storage.googleapis.com/tensorflow/keras-applications/xception/xception_weights_tf_dim_ordering_tf_kernels_notop.h5\n",
            "83683744/83683744 [==============================] - 0s 0us/step\n"
          ]
        }
      ],
      "source": [
        "pretrained_model= Xception(include_top=False,\n",
        "                           input_shape=(150, 150, 3),\n",
        "                           pooling='avg')\n",
        "\n",
        "pretrained_model.trainable=False"
      ]
    },
    {
      "cell_type": "code",
      "execution_count": null,
      "metadata": {
        "id": "MRbEMZElVfMu"
      },
      "outputs": [],
      "source": [
        "model_xception= Sequential()\n",
        "model_xception.add(pretrained_model)\n",
        "model_xception.add(tf.keras.layers.Flatten())\n",
        "model_xception.add(Dense(128, activation='relu'))\n",
        "model_xception.add(Dense(32, activation='relu'))\n",
        "model_xception.add(Dense(1, activation='sigmoid'))"
      ]
    },
    {
      "cell_type": "code",
      "execution_count": null,
      "metadata": {
        "colab": {
          "base_uri": "https://localhost:8080/"
        },
        "id": "09MSZbe6WlDU",
        "outputId": "1591beb7-4ac2-43e0-978f-8035ecdaa2df"
      },
      "outputs": [
        {
          "name": "stdout",
          "output_type": "stream",
          "text": [
            "Model: \"sequential_1\"\n",
            "_________________________________________________________________\n",
            " Layer (type)                Output Shape              Param #   \n",
            "=================================================================\n",
            " xception (Functional)       (None, 2048)              20861480  \n",
            "                                                                 \n",
            " flatten (Flatten)           (None, 2048)              0         \n",
            "                                                                 \n",
            " dense_2 (Dense)             (None, 128)               262272    \n",
            "                                                                 \n",
            " dense_3 (Dense)             (None, 32)                4128      \n",
            "                                                                 \n",
            " dense_4 (Dense)             (None, 1)                 33        \n",
            "                                                                 \n",
            "=================================================================\n",
            "Total params: 21127913 (80.60 MB)\n",
            "Trainable params: 266433 (1.02 MB)\n",
            "Non-trainable params: 20861480 (79.58 MB)\n",
            "_________________________________________________________________\n"
          ]
        }
      ],
      "source": [
        "model_xception.summary()"
      ]
    },
    {
      "cell_type": "code",
      "execution_count": null,
      "metadata": {
        "colab": {
          "base_uri": "https://localhost:8080/"
        },
        "id": "hZNHtYvOWogi",
        "outputId": "5a73c530-c614-4f7f-8cec-7af43681f977"
      },
      "outputs": [
        {
          "name": "stdout",
          "output_type": "stream",
          "text": [
            "Epoch 1/30\n",
            "147/147 [==============================] - 65s 395ms/step - loss: 0.2231 - accuracy: 0.9076 - val_loss: 0.1644 - val_accuracy: 0.9334\n",
            "Epoch 2/30\n",
            "147/147 [==============================] - 56s 381ms/step - loss: 0.1463 - accuracy: 0.9419 - val_loss: 0.1734 - val_accuracy: 0.9325\n",
            "Epoch 3/30\n",
            "147/147 [==============================] - 54s 370ms/step - loss: 0.1321 - accuracy: 0.9475 - val_loss: 0.1350 - val_accuracy: 0.9471\n",
            "Epoch 4/30\n",
            "147/147 [==============================] - 55s 373ms/step - loss: 0.1175 - accuracy: 0.9537 - val_loss: 0.1699 - val_accuracy: 0.9325\n",
            "Epoch 5/30\n",
            "147/147 [==============================] - 56s 378ms/step - loss: 0.1098 - accuracy: 0.9571 - val_loss: 0.1478 - val_accuracy: 0.9402\n",
            "Epoch 6/30\n",
            "147/147 [==============================] - 55s 378ms/step - loss: 0.0907 - accuracy: 0.9691 - val_loss: 0.1460 - val_accuracy: 0.9471\n"
          ]
        }
      ],
      "source": [
        "model_xception.compile(loss = 'binary_crossentropy',\n",
        "                       optimizer='Adam',\n",
        "                       metrics=['accuracy'])\n",
        "\n",
        "history_2 = model_xception.fit(train_gen, epochs=30,\n",
        "                    validation_data = test_gen,\n",
        "                    callbacks=callbacks)"
      ]
    },
    {
      "cell_type": "code",
      "execution_count": null,
      "metadata": {
        "id": "NO-o2pk-i6Mw"
      },
      "outputs": [],
      "source": [
        "test_results= model_xception.evaluate(test_gen,verbose=0)\n",
        "print(f'loss {test_results[0]:.2f}')\n",
        "print(f'acc {test_results[1]:.2f}')"
      ]
    },
    {
      "cell_type": "code",
      "execution_count": null,
      "metadata": {
        "colab": {
          "base_uri": "https://localhost:8080/"
        },
        "id": "wf0Ih00ti_lz",
        "outputId": "d0bda68a-b91e-4d91-96e6-b36e826273b9"
      },
      "outputs": [
        {
          "data": {
            "text/plain": [
              "1171"
            ]
          },
          "execution_count": 79,
          "metadata": {},
          "output_type": "execute_result"
        }
      ],
      "source": [
        "proba_pred= model_xception.predict(test_gen, verbose=0)\n",
        "test_pred_05=tf.where(proba_pred>0.58, 1, 0)\n",
        "list_true_labels= test_gen.classes\n",
        "len(list_true_labels)"
      ]
    },
    {
      "cell_type": "code",
      "execution_count": null,
      "metadata": {
        "colab": {
          "base_uri": "https://localhost:8080/"
        },
        "id": "qRDUMj6zjIEy",
        "outputId": "9ddefa8b-1d37-4d88-e6e8-45a8967d3e85"
      },
      "outputs": [
        {
          "name": "stdout",
          "output_type": "stream",
          "text": [
            "classification report dengan threshold 0.55\n",
            "              precision    recall  f1-score   support\n",
            "\n",
            "           0       0.90      0.91      0.90       317\n",
            "           1       0.97      0.96      0.96       854\n",
            "\n",
            "    accuracy                           0.95      1171\n",
            "   macro avg       0.93      0.94      0.93      1171\n",
            "weighted avg       0.95      0.95      0.95      1171\n",
            "\n"
          ]
        }
      ],
      "source": [
        "print('classification report dengan threshold 0.58')\n",
        "print(classification_report(list_true_labels, test_pred_05))"
      ]
    },
    {
      "cell_type": "code",
      "execution_count": null,
      "metadata": {
        "colab": {
          "base_uri": "https://localhost:8080/",
          "height": 410
        },
        "id": "jFF9i-qFjQo_",
        "outputId": "7f53ffda-2528-47fd-9419-0f15b0e46b34"
      },
      "outputs": [
        {
          "data": {
            "image/png": "[encoded data removed]",
            "text/plain": [
              "<Figure size 600x400 with 1 Axes>"
            ]
          },
          "metadata": {},
          "output_type": "display_data"
        }
      ],
      "source": [
        "# Menghitung confusion matrix\n",
        "conf_matrix = confusion_matrix(list_true_labels, test_pred_05)\n",
        "\n",
        "# Membuat heatmap dari confusion matrix\n",
        "plt.figure(figsize=(6, 4))\n",
        "sns.heatmap(conf_matrix, annot=True, fmt='d', cmap='Blues', cbar=False)\n",
        "plt.title('Confusion Matrix')\n",
        "plt.xlabel('Predicted Labels')\n",
        "plt.ylabel('True Labels')\n",
        "plt.show()"
      ]
    },
    {
      "cell_type": "markdown",
      "metadata": {
        "id": "4hEf5ootWijd"
      },
      "source": [
        "# Transfer Learning - VGG16"
      ]
    },
    {
      "cell_type": "code",
      "execution_count": null,
      "metadata": {
        "colab": {
          "base_uri": "https://localhost:8080/"
        },
        "id": "eiiv9-rZkDRG",
        "outputId": "7aa619ec-ca66-4d7b-a056-8074649b473e"
      },
      "outputs": [
        {
          "name": "stdout",
          "output_type": "stream",
          "text": [
            "Downloading data from https://storage.googleapis.com/tensorflow/keras-applications/vgg16/vgg16_weights_tf_dim_ordering_tf_kernels_notop.h5\n",
            "58889256/58889256 [==============================] - 1s 0us/step\n"
          ]
        }
      ],
      "source": [
        "pretrained_model= VGG16(include_top=False,\n",
        "                           input_shape=(150, 150, 3),\n",
        "                           pooling='avg')\n",
        "\n",
        "pretrained_model.trainable=False"
      ]
    },
    {
      "cell_type": "code",
      "execution_count": null,
      "metadata": {
        "id": "j1zray2MkHeX"
      },
      "outputs": [],
      "source": [
        "model_irfan= Sequential()\n",
        "model_irfan.add(pretrained_model)\n",
        "model_irfan.add(tf.keras.layers.Flatten())\n",
        "model_irfan.add(Dense(128, activation='relu'))\n",
        "model_irfan.add(Dense(32, activation='relu'))\n",
        "model_irfan.add(Dense(1, activation='sigmoid'))"
      ]
    },
    {
      "cell_type": "code",
      "execution_count": null,
      "metadata": {
        "colab": {
          "base_uri": "https://localhost:8080/"
        },
        "id": "f5KEVSRqkT4n",
        "outputId": "e81c6ea1-f31c-4adb-f61b-4193fea456f9"
      },
      "outputs": [
        {
          "name": "stdout",
          "output_type": "stream",
          "text": [
            "Model: \"sequential\"\n",
            "_________________________________________________________________\n",
            " Layer (type)                Output Shape              Param #   \n",
            "=================================================================\n",
            " vgg16 (Functional)          (None, 512)               14714688  \n",
            "                                                                 \n",
            " flatten (Flatten)           (None, 512)               0         \n",
            "                                                                 \n",
            " dense (Dense)               (None, 128)               65664     \n",
            "                                                                 \n",
            " dense_1 (Dense)             (None, 32)                4128      \n",
            "                                                                 \n",
            " dense_2 (Dense)             (None, 1)                 33        \n",
            "                                                                 \n",
            "=================================================================\n",
            "Total params: 14784513 (56.40 MB)\n",
            "Trainable params: 69825 (272.75 KB)\n",
            "Non-trainable params: 14714688 (56.13 MB)\n",
            "_________________________________________________________________\n"
          ]
        }
      ],
      "source": [
        "model_irfan.summary()"
      ]
    },
    {
      "cell_type": "code",
      "execution_count": null,
      "metadata": {
        "colab": {
          "base_uri": "https://localhost:8080/"
        },
        "id": "WYjkR5_DkW63",
        "outputId": "a5b03d4c-b685-4dc6-85a2-b4d929126247"
      },
      "outputs": [
        {
          "name": "stdout",
          "output_type": "stream",
          "text": [
            "Epoch 1/30\n",
            "147/147 [==============================] - 53s 348ms/step - loss: 0.0123 - accuracy: 0.9104 - val_loss: 0.0097 - val_accuracy: 0.9146\n",
            "Epoch 2/30\n",
            "147/147 [==============================] - 63s 427ms/step - loss: 0.0094 - accuracy: 0.9234 - val_loss: 0.0098 - val_accuracy: 0.9445\n",
            "Epoch 3/30\n",
            "147/147 [==============================] - 61s 415ms/step - loss: 0.0090 - accuracy: 0.9315 - val_loss: 0.0250 - val_accuracy: 0.8984\n",
            "Epoch 4/30\n",
            "147/147 [==============================] - 51s 350ms/step - loss: 0.0092 - accuracy: 0.9304 - val_loss: 0.0092 - val_accuracy: 0.9513\n",
            "Epoch 5/30\n",
            "147/147 [==============================] - 51s 344ms/step - loss: 0.0084 - accuracy: 0.9332 - val_loss: 0.0090 - val_accuracy: 0.9513\n",
            "Epoch 6/30\n",
            "147/147 [==============================] - 51s 348ms/step - loss: 0.0082 - accuracy: 0.9358 - val_loss: 0.0079 - val_accuracy: 0.9530\n",
            "Epoch 7/30\n",
            "147/147 [==============================] - 52s 354ms/step - loss: 0.0076 - accuracy: 0.9445 - val_loss: 0.0078 - val_accuracy: 0.9394\n",
            "Epoch 8/30\n",
            "147/147 [==============================] - 51s 345ms/step - loss: 0.0071 - accuracy: 0.9471 - val_loss: 0.0094 - val_accuracy: 0.9505\n",
            "Epoch 9/30\n",
            "147/147 [==============================] - 51s 346ms/step - loss: 0.0072 - accuracy: 0.9454 - val_loss: 0.0079 - val_accuracy: 0.9283\n"
          ]
        }
      ],
      "source": [
        "loss = tf.keras.losses.BinaryFocalCrossentropy(\n",
        "     apply_class_balancing=True, gamma=3, from_logits=False)\n",
        "\n",
        "model_irfan.compile(loss = loss,\n",
        "                       optimizer='Adam',\n",
        "                       metrics=['accuracy'])\n",
        "\n",
        "history_3 = model_irfan.fit(train_gen, epochs=30,\n",
        "                    validation_data = test_gen,\n",
        "                    callbacks=callbacks)"
      ]
    },
    {
      "cell_type": "code",
      "execution_count": null,
      "metadata": {
        "colab": {
          "base_uri": "https://localhost:8080/"
        },
        "id": "-sIj1h6RlhTI",
        "outputId": "a8ff08dd-3a44-4423-e8d2-d10a9e42c36d"
      },
      "outputs": [
        {
          "name": "stdout",
          "output_type": "stream",
          "text": [
            "loss 0.01\n",
            "acc 0.95\n"
          ]
        }
      ],
      "source": [
        "test_results= model_irfan.evaluate(test_gen,verbose=0)\n",
        "print(f'loss {test_results[0]:.2f}')\n",
        "print(f'acc {test_results[1]:.2f}')"
      ]
    },
    {
      "cell_type": "code",
      "execution_count": null,
      "metadata": {
        "colab": {
          "base_uri": "https://localhost:8080/"
        },
        "id": "nPjvT3oplojL",
        "outputId": "fea8f9a5-244d-4077-ac7c-d0e72fe19ea0"
      },
      "outputs": [
        {
          "name": "stdout",
          "output_type": "stream",
          "text": [
            "classification report dengan threshold 0.47\n",
            "              precision    recall  f1-score   support\n",
            "\n",
            "           0       0.91      0.92      0.92       317\n",
            "           1       0.97      0.97      0.97       854\n",
            "\n",
            "    accuracy                           0.95      1171\n",
            "   macro avg       0.94      0.94      0.94      1171\n",
            "weighted avg       0.95      0.95      0.95      1171\n",
            "\n"
          ]
        }
      ],
      "source": [
        "proba_pred= model_irfan.predict(test_gen, verbose=0)\n",
        "test_pred_047=tf.where(proba_pred>0.47, 1, 0)\n",
        "list_true_labels= test_gen.classes\n",
        "\n",
        "print('classification report dengan threshold 0.47')\n",
        "print(classification_report(list_true_labels, test_pred_047))"
      ]
    },
    {
      "cell_type": "code",
      "execution_count": null,
      "metadata": {
        "colab": {
          "base_uri": "https://localhost:8080/",
          "height": 410
        },
        "id": "XnS4eaqknqy-",
        "outputId": "333d703a-7918-4dc7-85db-0c5e383ce0fe"
      },
      "outputs": [
        {
          "data": {
            "image/png": "[encoded data removed]",
            "text/plain": [
              "<Figure size 600x400 with 1 Axes>"
            ]
          },
          "metadata": {},
          "output_type": "display_data"
        }
      ],
      "source": [
        "# Menghitung confusion matrix\n",
        "conf_matrix = confusion_matrix(list_true_labels, test_pred_047)\n",
        "\n",
        "# Membuat heatmap dari confusion matrix\n",
        "plt.figure(figsize=(6, 4))\n",
        "sns.heatmap(conf_matrix, annot=True, fmt='d', cmap='Blues', cbar=False)\n",
        "plt.title('Confusion Matrix')\n",
        "plt.xlabel('Predicted Labels')\n",
        "plt.ylabel('True Labels')\n",
        "plt.show()"
      ]
    },
    {
      "cell_type": "markdown",
      "metadata": {
        "id": "m9CnRsnTWigF"
      },
      "source": [
        "# Save Model"
      ]
    },
    {
      "cell_type": "code",
      "execution_count": null,
      "metadata": {
        "id": "rNci32lLoTWT"
      },
      "outputs": [],
      "source": [
        "model_irfan.save('model_irfan_best.keras')"
      ]
    },
    {
      "cell_type": "code",
      "execution_count": null,
      "metadata": {
        "id": "0ra7793CQM-C"
      },
      "outputs": [],
      "source": [
        "!cp /content/model_irfan_best.keras '/content/drive/MyDrive/DTS Resources'"
      ]
    },
    {
      "cell_type": "markdown",
      "metadata": {
        "id": "8fAq67oeokeL"
      },
      "source": [
        "# Streamlit"
      ]
    },
    {
      "cell_type": "code",
      "execution_count": null,
      "metadata": {
        "colab": {
          "base_uri": "https://localhost:8080/"
        },
        "id": "qrixO05homAh",
        "outputId": "25998ea1-aa02-4f15-a3e4-79e265ab0def"
      },
      "outputs": [
        {
          "name": "stdout",
          "output_type": "stream",
          "text": [
            "\u001b[2K     \u001b[90m━━━━━━━━━━━━━━━━━━━━━━━━━━━━━━━━━━━━━━━━\u001b[0m \u001b[32m8.5/8.5 MB\u001b[0m \u001b[31m13.4 MB/s\u001b[0m eta \u001b[36m0:00:00\u001b[0m\n",
            "\u001b[2K     \u001b[90m━━━━━━━━━━━━━━━━━━━━━━━━━━━━━━━━━━━━━━━━\u001b[0m \u001b[32m207.3/207.3 kB\u001b[0m \u001b[31m15.8 MB/s\u001b[0m eta \u001b[36m0:00:00\u001b[0m\n",
            "\u001b[2K     \u001b[90m━━━━━━━━━━━━━━━━━━━━━━━━━━━━━━━━━━━━━━━━\u001b[0m \u001b[32m6.9/6.9 MB\u001b[0m \u001b[31m34.8 MB/s\u001b[0m eta \u001b[36m0:00:00\u001b[0m\n",
            "\u001b[2K     \u001b[90m━━━━━━━━━━━━━━━━━━━━━━━━━━━━━━━━━━━━━━━━\u001b[0m \u001b[32m83.0/83.0 kB\u001b[0m \u001b[31m6.4 MB/s\u001b[0m eta \u001b[36m0:00:00\u001b[0m\n",
            "\u001b[2K     \u001b[90m━━━━━━━━━━━━━━━━━━━━━━━━━━━━━━━━━━━━━━━━\u001b[0m \u001b[32m62.7/62.7 kB\u001b[0m \u001b[31m6.6 MB/s\u001b[0m eta \u001b[36m0:00:00\u001b[0m\n",
            "\u001b[?25h"
          ]
        }
      ],
      "source": [
        "!pip -q install streamlit"
      ]
    },
    {
      "cell_type": "markdown",
      "metadata": {
        "id": "IYkb-Q4so9HH"
      },
      "source": [
        "Selanjutnya kita akan mencoba membuat aplikasi sederhana dari model CNN yang telah kita buat. buatlah file `app.py` menggunakan syntax berikut:"
      ]
    },
    {
      "cell_type": "code",
      "execution_count": null,
      "metadata": {
        "colab": {
          "base_uri": "https://localhost:8080/"
        },
        "id": "9-4741V0oz3k",
        "outputId": "8bb44d44-cd76-4370-98f8-8f3e6d072bbd"
      },
      "outputs": [
        {
          "name": "stdout",
          "output_type": "stream",
          "text": [
            "Overwriting app.py\n"
          ]
        }
      ],
      "source": [
        "%%writefile app.py\n",
        "import streamlit as st\n",
        "import numpy as np\n",
        "import tensorflow as tf\n",
        "from tensorflow.keras.models import load_model\n",
        "from tensorflow.keras.preprocessing import image as img\n",
        "\n",
        "model= load_model('model_irfan_best.keras')\n",
        "st.title('Model Irfan - Pneumonia Detection')\n",
        "\n",
        "def load_and_preprocess_image(image):\n",
        "    #img_inf = img.load_img(image, target_size=(224, 224))  # Sesuaikan target_size dengan ukuran yang digunakan saat pelatihan\n",
        "    img_inf= image.resize((150,150))\n",
        "    img_array = img.img_to_array(img_inf)\n",
        "    #st.write(img_array.shape)\n",
        "    img_array = img_array / 255.0  # Normalisasi nilai piksel menjadi [0, 1]\n",
        "    img_array = np.expand_dims(img_array, axis=0)\n",
        "    # st.write(img_array.shape)\n",
        "    return img_array\n",
        "\n",
        "def predict(image):\n",
        "  preprocess_img= load_and_preprocess_image(image)\n",
        "  prediction= model.predict(preprocess_img)\n",
        "  return prediction\n",
        "\n",
        "\n",
        "uploaded_file= st.file_uploader('Upload Image', type=[\"jpg\", \"jpeg\", \"png\"])\n",
        "\n",
        "if uploaded_file is not None:\n",
        "  image = img.load_img(uploaded_file)\n",
        "  st.image(image, caption=\"Gambar yang diunggah\", width=250)\n",
        "  if st.button(\"Prediksi\"):\n",
        "    proba_pred= predict(image)\n",
        "    prediction=tf.where(proba_pred>0.47, 1, 0) #outputnya  dua dimensi : [[1]]\n",
        "    if prediction[0][0] == 1:\n",
        "      st.write('Anda terditeksi Terkena Pneumonia')\n",
        "    else:\n",
        "      st.write('Kondisi Paru-paru anda Normal')\n",
        "    # st.write(prediction)\n",
        "\n"
      ]
    },
    {
      "cell_type": "markdown",
      "source": [
        "File `app.py` akan muncul di folder **files** google colab anda. Download file `app.py` yang ada di google colab dan anda dapat menggunakannya di lingkungan lokal pada PC atau laptop anda."
      ],
      "metadata": {
        "id": "-wWplBNHMDTU"
      }
    },
    {
      "cell_type": "markdown",
      "metadata": {
        "id": "sMRCmU-oahf6"
      },
      "source": [
        "## Streamlit- Gen AI"
      ]
    },
    {
      "cell_type": "markdown",
      "source": [
        "Kita dapat mengkombinasikan Aplikasi CNN untuk deteksi Pneumonia dengan Gen AI. Berikut adalah contoh codenya."
      ],
      "metadata": {
        "id": "6_54kdsKLpOU"
      }
    },
    {
      "cell_type": "code",
      "execution_count": null,
      "metadata": {
        "colab": {
          "base_uri": "https://localhost:8080/"
        },
        "id": "gFJCMZzRalTE",
        "outputId": "8a5a9a31-0d2c-4d95-b422-b9edd0d7affd"
      },
      "outputs": [
        {
          "name": "stdout",
          "output_type": "stream",
          "text": [
            "Writing elite_global.py\n"
          ]
        }
      ],
      "source": [
        "%%writefile elite_global.py\n",
        "import streamlit as st\n",
        "import google.generativeai as genai\n",
        "\n",
        "api_key='gunakan api key kalian'\n",
        "genai.configure(api_key=api_key)\n",
        "\n",
        "st.title('Chatbot Elite Global')\n",
        "\n",
        "generation_config={\n",
        "    \"max_output_tokens\": 1000,\n",
        "    \"temperature\": 0.8,\n",
        "    \"top_p\": 1\n",
        "}\n",
        "model= genai.GenerativeModel('gemini-pro')\n",
        "prompt= st.text_input(\"Masukan Perintah Anda:\")\n",
        "if st.button('Generate Text'):\n",
        "  if not prompt:\n",
        "    st.warning('Tolong masukan inputan perintah anda')\n",
        "  else:\n",
        "    with st.spinner('Elite Global sedang Menghasilkan Text Yang Anda Minta...'):\n",
        "      response= model.generate_content(\n",
        "        prompt,\n",
        "        generation_config= generation_config,\n",
        "        stream=False\n",
        "      )\n",
        "      st.write(response.text)\n"
      ]
    },
    {
      "cell_type": "markdown",
      "metadata": {
        "id": "p4c9UVG4doOD"
      },
      "source": [
        "# Kombinasi CNN dengan Gen AI"
      ]
    },
    {
      "cell_type": "code",
      "execution_count": null,
      "metadata": {
        "colab": {
          "base_uri": "https://localhost:8080/"
        },
        "id": "jKj90twBdtxM",
        "outputId": "bff9f6bf-20bf-4609-db0d-db352728b3fa"
      },
      "outputs": [
        {
          "name": "stdout",
          "output_type": "stream",
          "text": [
            "Overwriting app.py\n"
          ]
        }
      ],
      "source": [
        "%%writefile app.py\n",
        "import streamlit as st\n",
        "import numpy as np\n",
        "import tensorflow as tf\n",
        "from tensorflow.keras.models import load_model\n",
        "from tensorflow.keras.preprocessing import image as img\n",
        "\n",
        "import google.generativeai as genai\n",
        "\n",
        "\n",
        "api_key='gunakan api key kalian'\n",
        "genai.configure(api_key=api_key)\n",
        "\n",
        "st.title('Chatbot Keren Elite Global')\n",
        "\n",
        "generation_config={\n",
        "    \"max_output_tokens\": 1000,\n",
        "    \"temperature\": 0.8,\n",
        "    \"top_p\": 1\n",
        "}\n",
        "\n",
        "model_genai= genai.GenerativeModel('gemini-pro')\n",
        "model= load_model('model_irfan_best.keras')\n",
        "\n",
        "def load_and_preprocess_image(image):\n",
        "    #img_inf = img.load_img(image, target_size=(224, 224))  # Sesuaikan target_size dengan ukuran yang digunakan saat pelatihan\n",
        "    img_inf= image.resize((150,150))\n",
        "    img_array = img.img_to_array(img_inf)\n",
        "    #st.write(img_array.shape)\n",
        "    img_array = img_array / 255.0  # Normalisasi nilai piksel menjadi [0, 1]\n",
        "    img_array = np.expand_dims(img_array, axis=0)\n",
        "    # st.write(img_array.shape)\n",
        "    return img_array\n",
        "\n",
        "def predict(image):\n",
        "  preprocess_img= load_and_preprocess_image(image)\n",
        "  prediction= model.predict(preprocess_img)\n",
        "  return prediction\n",
        "\n",
        "\n",
        "uploaded_file= st.file_uploader('Upload Image', type=[\"jpg\", \"jpeg\", \"png\"])\n",
        "\n",
        "if uploaded_file is not None:\n",
        "  image = img.load_img(uploaded_file)\n",
        "  st.image(image, caption=\"Gambar yang diunggah\", width=250)\n",
        "  if st.button(\"Prediksi\"):\n",
        "    proba_pred= predict(image)\n",
        "    prediction=tf.where(proba_pred>0.47, 1, 0) #outputnya  dua dimensi : [[1]]\n",
        "    if prediction[0][0] == 1:\n",
        "      st.write('Anda terditeksi Terkena Pneumonia')\n",
        "      with st.spinner('Elite Global sedang Menghasilkan Text untuk Menganalisis Penyakit Anda...'):\n",
        "          response= model_genai.generate_content(\n",
        "            'Jelaskan apa itu Pneumonia dan juga gejala yang dialami oleh seseorang yang tekenal Pneumonia',\n",
        "            generation_config= generation_config,\n",
        "            stream=False\n",
        "          )\n",
        "          st.write(response.text)\n",
        "\n",
        "\n",
        "    else:\n",
        "      st.write('Kondisi Paru-paru anda Normal')\n",
        "    # st.write(prediction)\n",
        "\n"
      ]
    }
  ],
  "metadata": {
    "colab": {
      "provenance": [],
      "gpuType": "T4",
      "include_colab_link": true
    },
    "kernelspec": {
      "display_name": "Python 3",
      "name": "python3"
    },
    "language_info": {
      "name": "python"
    },
    "accelerator": "GPU"
  },
  "nbformat": 4,
  "nbformat_minor": 0
}